{
 "cells": [
  {
   "cell_type": "markdown",
   "id": "8f8ed15a",
   "metadata": {},
   "source": [
    "## Steps to reproduce the Job Agent bug\n",
    "To get the below wheel file for codeflare-sdk set up you can run the following in your terminal \n",
    "```bash\n",
    "poetry lock\n",
    "poetry install\n",
    "poetry build\n",
    "```\n",
    "\n",
    "Then you can run the below to install it. This is using a dev image of the kuberay python client found here -> https://test.pypi.org/project/odh-kuberay-client/#history. The referenced kuberay python client version is working as intended. "
   ]
  },
  {
   "cell_type": "code",
   "execution_count": null,
   "id": "10c8c12e",
   "metadata": {},
   "outputs": [],
   "source": [
    "%pip install --index-url https://test.pypi.org/simple/ --extra-index-url https://pypi.org/simple/ dist/codeflare_sdk-0.0.0.dev0-py3-none-any.whl --force-reinstall"
   ]
  },
  {
   "cell_type": "markdown",
   "id": "3e021c61",
   "metadata": {},
   "source": [
    "Below is the code I used to confirm that Kuberay Python Client is functional. It uses the cluster api to create a cluster, and submitting a job to this is successful. You don't need to run this"
   ]
  },
  {
   "cell_type": "code",
   "execution_count": null,
   "id": "5dc1a0fa",
   "metadata": {},
   "outputs": [],
   "source": [
    "\n",
    "from odh_kuberay_client import kuberay_cluster_api\n",
    "from odh_kuberay_client.utils import kuberay_cluster_builder\n",
    "\n",
    "cluster_name = \"working\"\n",
    "namespace = \"default\"\n",
    "\n",
    "director = kuberay_cluster_builder.Director()\n",
    "cluster_api = kuberay_cluster_api.RayClusterApi()\n",
    "\n",
    "# Build a small cluster\n",
    "cluster_body = director.build_small_cluster(\n",
    "    name=cluster_name,\n",
    "    k8s_namespace=namespace,\n",
    "    labels={\"ray.io/cluster\": cluster_name},\n",
    ")\n",
    "\n",
    "created_cluster = cluster_api.create_ray_cluster(\n",
    "    body=cluster_body, k8s_namespace=namespace\n",
    ")"
   ]
  },
  {
   "cell_type": "markdown",
   "id": "005c2ba2",
   "metadata": {},
   "source": [
    "The below uses the default ray image. Creating this cluster and submitting a job will work. To recreate the bug, comment out the `image=\"ray-project/ray:2.47.1\"` line and submit the job again. Ensure the RayJob CR from the working job submission was deleted.  \n",
    "\n",
    "You will need a Kind cluster with Kuberay installed for this to work FYI!"
   ]
  },
  {
   "cell_type": "code",
   "execution_count": null,
   "id": "cb80c155",
   "metadata": {},
   "outputs": [],
   "source": [
    "from codeflare_sdk import Cluster, ClusterConfiguration\n",
    "\n",
    "cluster = Cluster(ClusterConfiguration(\n",
    "    name='test-cluster',\n",
    "    namespace='default',\n",
    "    head_cpu_requests='1',\n",
    "    head_cpu_limits='2',\n",
    "    head_memory_requests=4,\n",
    "    head_memory_limits=5,\n",
    "    head_extended_resource_requests={'nvidia.com/gpu':0},\n",
    "    worker_extended_resource_requests={'nvidia.com/gpu':0},\n",
    "    num_workers=1,\n",
    "    worker_cpu_requests='1',\n",
    "    worker_cpu_limits='2',\n",
    "    worker_memory_requests=3,\n",
    "    worker_memory_limits=4,\n",
    "    image=\"ray-project/ray:2.47.1\" # this image works, omit this line to use our default image which does not work\n",
    "))\n",
    "\n",
    "cluster.apply()"
   ]
  },
  {
   "cell_type": "markdown",
   "id": "94841b95",
   "metadata": {},
   "source": [
    "With the below, a pod gets created which submits the job. This will be marked as completed if its successful and you can view the job in the Dashboard as normal. If not, it will fail, and the CR will try to recreate new pods in a loop"
   ]
  },
  {
   "cell_type": "code",
   "execution_count": null,
   "id": "c5e3c895",
   "metadata": {},
   "outputs": [],
   "source": [
    "from odh_kuberay_client.kuberay_job_api import RayjobApi\n",
    "\n",
    "rayjob_api = RayjobApi()\n",
    "\n",
    "job_body = {\n",
    "    \"apiVersion\": \"ray.io/v1\",\n",
    "    \"kind\": \"RayJob\",\n",
    "    \"metadata\": {\n",
    "        \"name\": \"test-job\",\n",
    "        \"namespace\": \"default\",\n",
    "        \"labels\": {\n",
    "            \"app.kubernetes.io/name\": \"test-job\",\n",
    "            \"app.kubernetes.io/managed-by\": \"kuberay\",\n",
    "        },\n",
    "    },\n",
    "    \"spec\": {\n",
    "        \"clusterSelector\": {\n",
    "            \"ray.io/cluster\": \"test-cluster\",\n",
    "        },\n",
    "        \"entrypoint\": 'python -c \"import time; time.sleep(20)\"',\n",
    "        \"submissionMode\": \"K8sJobMode\",\n",
    "    },\n",
    "}\n",
    "\n",
    "rayjob_api.submit_job(job=job_body, k8s_namespace=\"default\")"
   ]
  }
 ],
 "metadata": {
  "kernelspec": {
   "display_name": ".venv",
   "language": "python",
   "name": "python3"
  },
  "language_info": {
   "codemirror_mode": {
    "name": "ipython",
    "version": 3
   },
   "file_extension": ".py",
   "mimetype": "text/x-python",
   "name": "python",
   "nbconvert_exporter": "python",
   "pygments_lexer": "ipython3",
   "version": "3.11.13"
  }
 },
 "nbformat": 4,
 "nbformat_minor": 5
}
